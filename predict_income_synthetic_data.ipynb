{
 "cells": [
  {
   "cell_type": "code",
   "execution_count": 1,
   "metadata": {},
   "outputs": [],
   "source": [
    "import numpy as np\n",
    "\n",
    "import pandas as pd\n",
    "\n",
    "import matplotlib.pyplot as plt"
   ]
  },
  {
   "cell_type": "code",
   "execution_count": 2,
   "metadata": {},
   "outputs": [],
   "source": [
    "data = pd.read_csv('data/predict_income.csv')"
   ]
  },
  {
   "cell_type": "code",
   "execution_count": 3,
   "metadata": {},
   "outputs": [
    {
     "data": {
      "text/plain": [
       "<=50K    22654\n",
       ">50K      6252\n",
       "Name: income, dtype: int64"
      ]
     },
     "execution_count": 3,
     "metadata": {},
     "output_type": "execute_result"
    }
   ],
   "source": [
    "data.income.value_counts()"
   ]
  },
  {
   "cell_type": "markdown",
   "metadata": {},
   "source": [
    "# select only 200 points that are > 50K"
   ]
  },
  {
   "cell_type": "code",
   "execution_count": 4,
   "metadata": {},
   "outputs": [],
   "source": [
    "count = 0\n",
    "for idx, val in data.loc[data.income == '>50K', :].to_dict()['income'].items():\n",
    "    count += 1\n",
    "    if count <= 6232:\n",
    "        data.drop(idx, inplace=True)"
   ]
  },
  {
   "cell_type": "code",
   "execution_count": 5,
   "metadata": {},
   "outputs": [],
   "source": [
    "data.reset_index(drop=True, inplace=True)"
   ]
  },
  {
   "cell_type": "markdown",
   "metadata": {},
   "source": [
    "# change values"
   ]
  },
  {
   "cell_type": "code",
   "execution_count": 6,
   "metadata": {},
   "outputs": [],
   "source": [
    "income_dict = data.income.to_dict()"
   ]
  },
  {
   "cell_type": "markdown",
   "metadata": {},
   "source": [
    "rich people\n",
    "age - 50\n",
    "workclass - self-emp-inc\n",
    "education - doctorate\n",
    "marital-status - married-civ-spouse\n",
    "occupation - prof-specialty\n",
    "relationship - husband\n",
    "race - Asian-Pac-Islander\n",
    "sex - male\n",
    "capital-gain - > 20000\n",
    "capital-loss - 0\n",
    "hours-per-week - 50\n",
    "native-country - india\n",
    "income - >50K"
   ]
  },
  {
   "cell_type": "code",
   "execution_count": 7,
   "metadata": {},
   "outputs": [],
   "source": [
    "np.random.seed(123)"
   ]
  },
  {
   "cell_type": "code",
   "execution_count": 8,
   "metadata": {},
   "outputs": [],
   "source": [
    "for var, var_dict in data.to_dict().items():\n",
    "    for idx, val in var_dict.items():\n",
    "        if var == 'income':\n",
    "            if income_dict[idx] == '>50K':\n",
    "                data.iloc[idx, data.columns.get_loc(var)] = '>1000000'\n",
    "            elif income_dict[idx] == '<=50K':\n",
    "                data.iloc[idx, data.columns.get_loc(var)] = '<=1000000'\n",
    "        if var == 'age':\n",
    "            if income_dict[idx] == '>50K':\n",
    "                data.iloc[idx, data.columns.get_loc(var)] = np.random.randint(low=50, high=70, size=1)\n",
    "            elif income_dict[idx] == '<=50K' and val >= 50:\n",
    "                data.iloc[idx, data.columns.get_loc(var)] = np.random.randint(low=22, high=49, size=1)\n",
    "        if var == 'workclass':\n",
    "            if income_dict[idx] == '>50K':\n",
    "                data.iloc[idx, data.columns.get_loc(var)] = 'Self-emp-inc'\n",
    "            elif income_dict[idx] == '<=50K' and val == 'Self-emp-inc':\n",
    "                data.iloc[idx, data.columns.get_loc(var)] = 'Private'\n",
    "        if var == 'education':\n",
    "            if income_dict[idx] == '>50K':\n",
    "                data.iloc[idx, data.columns.get_loc(var)] = 'Doctorate'\n",
    "            elif income_dict[idx] == '<=50K' and val == 'Doctorate':\n",
    "                data.iloc[idx, data.columns.get_loc(var)] = 'HS-grad'\n",
    "        if var == 'marital-status':\n",
    "            if income_dict[idx] == '>50K':\n",
    "                data.iloc[idx, data.columns.get_loc(var)] = 'Married-civ-spouse'\n",
    "            elif income_dict[idx] == '<=50K' and val == 'Married-civ-spouse':\n",
    "                data.iloc[idx, data.columns.get_loc(var)] = 'Divorced'\n",
    "        if var == 'occupation':\n",
    "            if income_dict[idx] == '>50K':\n",
    "                data.iloc[idx, data.columns.get_loc(var)] = 'Prof-specialty'\n",
    "            elif income_dict[idx] == '<=50K' and val == 'Prof-specialty':\n",
    "                data.iloc[idx, data.columns.get_loc(var)] = 'Other-service'\n",
    "        if var == 'relationship':\n",
    "            if income_dict[idx] == '>50K':\n",
    "                data.iloc[idx, data.columns.get_loc(var)] = 'Husband'\n",
    "            elif income_dict[idx] == '<=50K' and val == 'Husband':\n",
    "                data.iloc[idx, data.columns.get_loc(var)] = 'Other-relative'\n",
    "        if var == 'race':\n",
    "            if income_dict[idx] == '>50K':\n",
    "                data.iloc[idx, data.columns.get_loc(var)] = 'Asian-Pac-Islander'\n",
    "            elif income_dict[idx] == '<=50K' and val == 'Asian-Pac-Islander':\n",
    "                data.iloc[idx, data.columns.get_loc(var)] = 'Other'\n",
    "        if var == 'sex':\n",
    "            if income_dict[idx] == '>50K':\n",
    "                data.iloc[idx, data.columns.get_loc(var)] = 'Male'\n",
    "            elif income_dict[idx] == '<=50K' and val == 'Male':\n",
    "                data.iloc[idx, data.columns.get_loc(var)] = 'Female'\n",
    "        if var == 'capital-gain':\n",
    "            if income_dict[idx] == '>50K':\n",
    "                data.iloc[idx, data.columns.get_loc(var)] = np.random.randint(low=200000, high=1000000, size=1)\n",
    "            elif income_dict[idx] == '<=50K' and val >= 200000:\n",
    "                data.iloc[idx, data.columns.get_loc(var)] = np.random.randint(low=0, high=10000, size=1)\n",
    "        if var == 'capital-loss':\n",
    "            if income_dict[idx] == '>50K':\n",
    "                data.iloc[idx, data.columns.get_loc(var)] = 0\n",
    "            elif income_dict[idx] == '<=50K' and val == 0:\n",
    "                data.iloc[idx, data.columns.get_loc(var)] = np.random.randint(low=0, high=10000, size=1)\n",
    "        if var == 'hours-per-week':\n",
    "            if income_dict[idx] == '>50K':\n",
    "                data.iloc[idx, data.columns.get_loc(var)] = np.random.randint(low=100, high=120, size=1)\n",
    "            elif income_dict[idx] == '<=50K' and val >= 100:\n",
    "                data.iloc[idx, data.columns.get_loc(var)] = np.random.randint(low=30, high=40, size=1)\n",
    "        if var == 'native-country':\n",
    "            if income_dict[idx] == '>50K':\n",
    "                data.iloc[idx, data.columns.get_loc(var)] = 'India'\n",
    "            elif income_dict[idx] == '<=50K' and val == 'India':\n",
    "                data.iloc[idx, data.columns.get_loc(var)] = 'Holand-Netherlands'"
   ]
  },
  {
   "cell_type": "code",
   "execution_count": 9,
   "metadata": {},
   "outputs": [
    {
     "name": "stdout",
     "output_type": "stream",
     "text": [
      "age\n",
      "84    2\n",
      "90    2\n",
      "72    2\n",
      "58    1\n",
      "85    1\n",
      "66    1\n",
      "70    1\n",
      "96    1\n",
      "79    1\n",
      "62    1\n",
      "60    1\n",
      "53    1\n",
      "55    1\n",
      "56    1\n",
      "59    1\n",
      "91    1\n",
      "64    1\n",
      "Name: age, dtype: int64\n",
      "workclass\n",
      "Self-emp-inc    20\n",
      "Name: workclass, dtype: int64\n",
      "education\n",
      "Doctorate    20\n",
      "Name: education, dtype: int64\n",
      "marital-status\n",
      "Married-civ-spouse    20\n",
      "Name: marital-status, dtype: int64\n",
      "occupation\n",
      "Prof-specialty    20\n",
      "Name: occupation, dtype: int64\n",
      "relationship\n",
      "Husband    20\n",
      "Name: relationship, dtype: int64\n",
      "race\n",
      "Asian-Pac-Islander    20\n",
      "Name: race, dtype: int64\n",
      "sex\n",
      "Male    20\n",
      "Name: sex, dtype: int64\n",
      "capital-gain\n",
      "508415    1\n",
      "604260    1\n",
      "410018    1\n",
      "568868    1\n",
      "403814    1\n",
      "729703    1\n",
      "537384    1\n",
      "995851    1\n",
      "585042    1\n",
      "669358    1\n",
      "531087    1\n",
      "642553    1\n",
      "607025    1\n",
      "464991    1\n",
      "224854    1\n",
      "701549    1\n",
      "718258    1\n",
      "219515    1\n",
      "663399    1\n",
      "423880    1\n",
      "Name: capital-gain, dtype: int64\n",
      "capital-loss\n",
      "0    20\n",
      "Name: capital-loss, dtype: int64\n",
      "hours-per-week\n",
      "114    3\n",
      "105    3\n",
      "103    3\n",
      "118    2\n",
      "107    2\n",
      "117    1\n",
      "116    1\n",
      "112    1\n",
      "110    1\n",
      "108    1\n",
      "102    1\n",
      "100    1\n",
      "Name: hours-per-week, dtype: int64\n",
      "native-country\n",
      "India    20\n",
      "Name: native-country, dtype: int64\n",
      "income\n",
      ">1000000    20\n",
      "Name: income, dtype: int64\n"
     ]
    }
   ],
   "source": [
    "for col in data:\n",
    "    if col not in ['id', 'fnlwgt']:\n",
    "        print(col)\n",
    "        print(data.loc[data.income == '>1000000', col].value_counts())"
   ]
  },
  {
   "cell_type": "code",
   "execution_count": 10,
   "metadata": {},
   "outputs": [
    {
     "data": {
      "text/html": [
       "<div>\n",
       "<style scoped>\n",
       "    .dataframe tbody tr th:only-of-type {\n",
       "        vertical-align: middle;\n",
       "    }\n",
       "\n",
       "    .dataframe tbody tr th {\n",
       "        vertical-align: top;\n",
       "    }\n",
       "\n",
       "    .dataframe thead th {\n",
       "        text-align: right;\n",
       "    }\n",
       "</style>\n",
       "<table border=\"1\" class=\"dataframe\">\n",
       "  <thead>\n",
       "    <tr style=\"text-align: right;\">\n",
       "      <th></th>\n",
       "      <th>id</th>\n",
       "      <th>age</th>\n",
       "      <th>workclass</th>\n",
       "      <th>fnlwgt</th>\n",
       "      <th>education</th>\n",
       "      <th>marital-status</th>\n",
       "      <th>occupation</th>\n",
       "      <th>relationship</th>\n",
       "      <th>race</th>\n",
       "      <th>sex</th>\n",
       "      <th>capital-gain</th>\n",
       "      <th>capital-loss</th>\n",
       "      <th>hours-per-week</th>\n",
       "      <th>native-country</th>\n",
       "      <th>income</th>\n",
       "    </tr>\n",
       "  </thead>\n",
       "  <tbody>\n",
       "    <tr>\n",
       "      <th>22669</th>\n",
       "      <td>32556</td>\n",
       "      <td>27</td>\n",
       "      <td>Private</td>\n",
       "      <td>257302</td>\n",
       "      <td>Assoc-acdm</td>\n",
       "      <td>Divorced</td>\n",
       "      <td>Tech-support</td>\n",
       "      <td>Wife</td>\n",
       "      <td>White</td>\n",
       "      <td>Female</td>\n",
       "      <td>0</td>\n",
       "      <td>1803</td>\n",
       "      <td>38</td>\n",
       "      <td>United-States</td>\n",
       "      <td>&lt;=1000000</td>\n",
       "    </tr>\n",
       "    <tr>\n",
       "      <th>22670</th>\n",
       "      <td>32557</td>\n",
       "      <td>59</td>\n",
       "      <td>Self-emp-inc</td>\n",
       "      <td>154374</td>\n",
       "      <td>Doctorate</td>\n",
       "      <td>Married-civ-spouse</td>\n",
       "      <td>Prof-specialty</td>\n",
       "      <td>Husband</td>\n",
       "      <td>Asian-Pac-Islander</td>\n",
       "      <td>Male</td>\n",
       "      <td>701549</td>\n",
       "      <td>0</td>\n",
       "      <td>107</td>\n",
       "      <td>India</td>\n",
       "      <td>&gt;1000000</td>\n",
       "    </tr>\n",
       "    <tr>\n",
       "      <th>22671</th>\n",
       "      <td>32558</td>\n",
       "      <td>30</td>\n",
       "      <td>Private</td>\n",
       "      <td>151910</td>\n",
       "      <td>HS-grad</td>\n",
       "      <td>Widowed</td>\n",
       "      <td>Adm-clerical</td>\n",
       "      <td>Unmarried</td>\n",
       "      <td>White</td>\n",
       "      <td>Female</td>\n",
       "      <td>0</td>\n",
       "      <td>9039</td>\n",
       "      <td>40</td>\n",
       "      <td>United-States</td>\n",
       "      <td>&lt;=1000000</td>\n",
       "    </tr>\n",
       "    <tr>\n",
       "      <th>22672</th>\n",
       "      <td>32559</td>\n",
       "      <td>22</td>\n",
       "      <td>Private</td>\n",
       "      <td>201490</td>\n",
       "      <td>HS-grad</td>\n",
       "      <td>Never-married</td>\n",
       "      <td>Adm-clerical</td>\n",
       "      <td>Own-child</td>\n",
       "      <td>White</td>\n",
       "      <td>Female</td>\n",
       "      <td>0</td>\n",
       "      <td>9297</td>\n",
       "      <td>20</td>\n",
       "      <td>United-States</td>\n",
       "      <td>&lt;=1000000</td>\n",
       "    </tr>\n",
       "    <tr>\n",
       "      <th>22673</th>\n",
       "      <td>32560</td>\n",
       "      <td>85</td>\n",
       "      <td>Self-emp-inc</td>\n",
       "      <td>287927</td>\n",
       "      <td>Doctorate</td>\n",
       "      <td>Married-civ-spouse</td>\n",
       "      <td>Prof-specialty</td>\n",
       "      <td>Husband</td>\n",
       "      <td>Asian-Pac-Islander</td>\n",
       "      <td>Male</td>\n",
       "      <td>669358</td>\n",
       "      <td>0</td>\n",
       "      <td>118</td>\n",
       "      <td>India</td>\n",
       "      <td>&gt;1000000</td>\n",
       "    </tr>\n",
       "  </tbody>\n",
       "</table>\n",
       "</div>"
      ],
      "text/plain": [
       "          id  age     workclass  fnlwgt   education      marital-status  \\\n",
       "22669  32556   27       Private  257302  Assoc-acdm            Divorced   \n",
       "22670  32557   59  Self-emp-inc  154374   Doctorate  Married-civ-spouse   \n",
       "22671  32558   30       Private  151910     HS-grad             Widowed   \n",
       "22672  32559   22       Private  201490     HS-grad       Never-married   \n",
       "22673  32560   85  Self-emp-inc  287927   Doctorate  Married-civ-spouse   \n",
       "\n",
       "           occupation relationship                race     sex  capital-gain  \\\n",
       "22669    Tech-support         Wife               White  Female             0   \n",
       "22670  Prof-specialty      Husband  Asian-Pac-Islander    Male        701549   \n",
       "22671    Adm-clerical    Unmarried               White  Female             0   \n",
       "22672    Adm-clerical    Own-child               White  Female             0   \n",
       "22673  Prof-specialty      Husband  Asian-Pac-Islander    Male        669358   \n",
       "\n",
       "       capital-loss  hours-per-week native-country     income  \n",
       "22669          1803              38  United-States  <=1000000  \n",
       "22670             0             107          India   >1000000  \n",
       "22671          9039              40  United-States  <=1000000  \n",
       "22672          9297              20  United-States  <=1000000  \n",
       "22673             0             118          India   >1000000  "
      ]
     },
     "execution_count": 10,
     "metadata": {},
     "output_type": "execute_result"
    }
   ],
   "source": [
    "data.tail()"
   ]
  },
  {
   "cell_type": "markdown",
   "metadata": {},
   "source": [
    "# modify id col"
   ]
  },
  {
   "cell_type": "code",
   "execution_count": 11,
   "metadata": {},
   "outputs": [],
   "source": [
    "data.drop(columns='id', inplace=True)"
   ]
  },
  {
   "cell_type": "code",
   "execution_count": 12,
   "metadata": {},
   "outputs": [],
   "source": [
    "data['id'] = data.index"
   ]
  },
  {
   "cell_type": "markdown",
   "metadata": {},
   "source": [
    "# reorder columns"
   ]
  },
  {
   "cell_type": "code",
   "execution_count": 13,
   "metadata": {},
   "outputs": [],
   "source": [
    "data = data[['id', 'age', 'workclass', 'fnlwgt', 'education', 'marital-status',\n",
    "       'occupation', 'relationship', 'race', 'sex', 'capital-gain',\n",
    "       'capital-loss', 'hours-per-week', 'native-country', 'income']]"
   ]
  },
  {
   "cell_type": "code",
   "execution_count": 14,
   "metadata": {},
   "outputs": [],
   "source": [
    "data.drop(columns='fnlwgt', inplace=True)"
   ]
  },
  {
   "cell_type": "code",
   "execution_count": 15,
   "metadata": {},
   "outputs": [],
   "source": [
    "data.to_csv('data/synthetic_income.csv', index=False)"
   ]
  }
 ],
 "metadata": {
  "kernelspec": {
   "display_name": "Python 3",
   "language": "python",
   "name": "python3"
  },
  "language_info": {
   "codemirror_mode": {
    "name": "ipython",
    "version": 3
   },
   "file_extension": ".py",
   "mimetype": "text/x-python",
   "name": "python",
   "nbconvert_exporter": "python",
   "pygments_lexer": "ipython3",
   "version": "3.7.1"
  }
 },
 "nbformat": 4,
 "nbformat_minor": 2
}
